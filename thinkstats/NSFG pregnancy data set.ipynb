{
 "cells": [
  {
   "cell_type": "code",
   "execution_count": 63,
   "metadata": {
    "collapsed": true
   },
   "outputs": [],
   "source": [
    "# analysising pregnancy data from national survey of family growth."
   ]
  },
  {
   "cell_type": "code",
   "execution_count": 64,
   "metadata": {
    "collapsed": false
   },
   "outputs": [
    {
     "ename": "OSError",
     "evalue": "[Errno 2] No such file or directory: './ThinkStats2/code'",
     "output_type": "error",
     "traceback": [
      "\u001b[0;31m---------------------------------------------------------------------------\u001b[0m",
      "\u001b[0;31mOSError\u001b[0m                                   Traceback (most recent call last)",
      "\u001b[0;32m<ipython-input-64-6b6471353a5b>\u001b[0m in \u001b[0;36m<module>\u001b[0;34m()\u001b[0m\n\u001b[1;32m      1\u001b[0m \u001b[0;32mimport\u001b[0m \u001b[0mos\u001b[0m\u001b[0;34m\u001b[0m\u001b[0m\n\u001b[0;32m----> 2\u001b[0;31m \u001b[0mos\u001b[0m\u001b[0;34m.\u001b[0m\u001b[0mchdir\u001b[0m\u001b[0;34m(\u001b[0m\u001b[0;34m'./ThinkStats2/code'\u001b[0m\u001b[0;34m)\u001b[0m\u001b[0;34m\u001b[0m\u001b[0m\n\u001b[0m\u001b[1;32m      3\u001b[0m \u001b[0;32mimport\u001b[0m \u001b[0mnsfg\u001b[0m\u001b[0;34m\u001b[0m\u001b[0m\n\u001b[1;32m      4\u001b[0m \u001b[0;32mimport\u001b[0m \u001b[0mnumpy\u001b[0m \u001b[0;32mas\u001b[0m \u001b[0mnp\u001b[0m\u001b[0;34m\u001b[0m\u001b[0m\n\u001b[1;32m      5\u001b[0m \u001b[0mdf\u001b[0m \u001b[0;34m=\u001b[0m \u001b[0mnsfg\u001b[0m\u001b[0;34m.\u001b[0m\u001b[0mReadFemPreg\u001b[0m\u001b[0;34m(\u001b[0m\u001b[0;34m)\u001b[0m\u001b[0;34m\u001b[0m\u001b[0m\n",
      "\u001b[0;31mOSError\u001b[0m: [Errno 2] No such file or directory: './ThinkStats2/code'"
     ]
    }
   ],
   "source": [
    "import os\n",
    "os.chdir('./ThinkStats2/code')\n",
    "import nsfg\n",
    "df = nsfg.ReadFemPreg()\n",
    "df"
   ]
  },
  {
   "cell_type": "code",
   "execution_count": 65,
   "metadata": {
    "collapsed": false
   },
   "outputs": [
    {
     "name": "stdout",
     "output_type": "stream",
     "text": [
      "(13593, 244)\n"
     ]
    }
   ],
   "source": [
    "import numpy as np\n",
    "print df.shape"
   ]
  },
  {
   "cell_type": "code",
   "execution_count": null,
   "metadata": {
    "collapsed": false
   },
   "outputs": [],
   "source": [
    "df.columns[1]"
   ]
  },
  {
   "cell_type": "code",
   "execution_count": null,
   "metadata": {
    "collapsed": false
   },
   "outputs": [],
   "source": [
    "pregordr = df['pregordr']\n",
    "type(pregordr)"
   ]
  },
  {
   "cell_type": "code",
   "execution_count": null,
   "metadata": {
    "collapsed": false
   },
   "outputs": [],
   "source": [
    "print pregordr[0]\n",
    "print pregordr[2:5]"
   ]
  },
  {
   "cell_type": "code",
   "execution_count": null,
   "metadata": {
    "collapsed": false
   },
   "outputs": [],
   "source": [
    "## pandas nan is numpy's nan\n",
    "type(df['howpreg_n'][0])"
   ]
  },
  {
   "cell_type": "code",
   "execution_count": null,
   "metadata": {
    "collapsed": true
   },
   "outputs": [],
   "source": [
    "nsfg.CleanFemPreg(df)"
   ]
  },
  {
   "cell_type": "code",
   "execution_count": null,
   "metadata": {
    "collapsed": false
   },
   "outputs": [],
   "source": [
    "df"
   ]
  },
  {
   "cell_type": "code",
   "execution_count": null,
   "metadata": {
    "collapsed": false
   },
   "outputs": [],
   "source": [
    "df['totalwgt_lb']"
   ]
  },
  {
   "cell_type": "code",
   "execution_count": null,
   "metadata": {
    "collapsed": false
   },
   "outputs": [],
   "source": [
    "df.outcome.value_counts().sort_index()"
   ]
  },
  {
   "cell_type": "code",
   "execution_count": 69,
   "metadata": {
    "collapsed": false
   },
   "outputs": [
    {
     "data": {
      "text/plain": [
       "0        8\n",
       "1       40\n",
       "2       53\n",
       "3       98\n",
       "4      229\n",
       "5      697\n",
       "6     2223\n",
       "7     3049\n",
       "8     1889\n",
       "9      623\n",
       "10     132\n",
       "11      26\n",
       "12      10\n",
       "13       3\n",
       "14       3\n",
       "15       1\n",
       "Name: birthwgt_lb, dtype: int64"
      ]
     },
     "execution_count": 69,
     "metadata": {},
     "output_type": "execute_result"
    }
   ],
   "source": [
    "df.birthwgt_lb.value_counts().sort_index()"
   ]
  },
  {
   "cell_type": "code",
   "execution_count": 70,
   "metadata": {
    "collapsed": false
   },
   "outputs": [
    {
     "data": {
      "text/plain": [
       "0            1\n",
       "1            1\n",
       "2            2\n",
       "3            2\n",
       "4            2\n",
       "5            6\n",
       "6            6\n",
       "7            6\n",
       "8            7\n",
       "9            7\n",
       "10          12\n",
       "11          14\n",
       "12          14\n",
       "13          14\n",
       "14          15\n",
       "15          15\n",
       "16          15\n",
       "17          18\n",
       "18          18\n",
       "19          21\n",
       "20          21\n",
       "21          23\n",
       "22          23\n",
       "23          24\n",
       "24          24\n",
       "25          24\n",
       "26          28\n",
       "27          31\n",
       "28          31\n",
       "29          31\n",
       "         ...  \n",
       "13563    12547\n",
       "13564    12547\n",
       "13565    12550\n",
       "13566    12551\n",
       "13567    12554\n",
       "13568    12554\n",
       "13569    12556\n",
       "13570    12556\n",
       "13571    12556\n",
       "13572    12556\n",
       "13573    12561\n",
       "13574    12561\n",
       "13575    12564\n",
       "13576    12565\n",
       "13577    12565\n",
       "13578    12566\n",
       "13579    12566\n",
       "13580    12568\n",
       "13581    12568\n",
       "13582    12568\n",
       "13583    12569\n",
       "13584    12569\n",
       "13585    12570\n",
       "13586    12570\n",
       "13587    12570\n",
       "13588    12571\n",
       "13589    12571\n",
       "13590    12571\n",
       "13591    12571\n",
       "13592    12571\n",
       "Name: caseid, dtype: int64"
      ]
     },
     "execution_count": 70,
     "metadata": {},
     "output_type": "execute_result"
    }
   ],
   "source": [
    "df.caseid"
   ]
  },
  {
   "cell_type": "code",
   "execution_count": 74,
   "metadata": {
    "collapsed": false
   },
   "outputs": [],
   "source": [
    "from collections import defaultdict\n",
    "def MakePregMap(df):\n",
    "    d = defaultdict(list)\n",
    "    for index, caseid in df.caseid.iteritems():\n",
    "        d[caseid].append(index)\n",
    "    return d"
   ]
  },
  {
   "cell_type": "code",
   "execution_count": 75,
   "metadata": {
    "collapsed": false
   },
   "outputs": [],
   "source": [
    "preg_map = MakePregMap(df)"
   ]
  },
  {
   "cell_type": "code",
   "execution_count": 79,
   "metadata": {
    "collapsed": false
   },
   "outputs": [
    {
     "name": "stdout",
     "output_type": "stream",
     "text": [
      "[11093, 11094, 11095, 11096, 11097, 11098, 11099]\n",
      "[4 4 4 4 4 4 1]\n"
     ]
    }
   ],
   "source": [
    "caseid = 10229\n",
    "indices = preg_map[caseid]\n",
    "print indices\n",
    "print df.outcome[indices].values"
   ]
  },
  {
   "cell_type": "code",
   "execution_count": null,
   "metadata": {
    "collapsed": true
   },
   "outputs": [],
   "source": []
  }
 ],
 "metadata": {
  "kernelspec": {
   "display_name": "Python 2",
   "language": "python",
   "name": "python2"
  },
  "language_info": {
   "codemirror_mode": {
    "name": "ipython",
    "version": 2
   },
   "file_extension": ".py",
   "mimetype": "text/x-python",
   "name": "python",
   "nbconvert_exporter": "python",
   "pygments_lexer": "ipython2",
   "version": "2.7.10"
  }
 },
 "nbformat": 4,
 "nbformat_minor": 0
}
